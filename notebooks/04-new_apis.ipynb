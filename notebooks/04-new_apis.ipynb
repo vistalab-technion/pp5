{
 "cells": [
  {
   "cell_type": "code",
   "execution_count": 127,
   "metadata": {},
   "outputs": [],
   "source": [
    "import requests\n",
    "import json"
   ]
  },
  {
   "cell_type": "code",
   "execution_count": 128,
   "metadata": {},
   "outputs": [],
   "source": [
    "PDB_SEARCH_URL = \"https://search.rcsb.org/rcsbsearch/v1/query\""
   ]
  },
  {
   "cell_type": "code",
   "execution_count": 218,
   "metadata": {},
   "outputs": [
    {
     "data": {
      "text/plain": [
       "{'query': {'type': 'terminal',\n",
       "  'service': 'text',\n",
       "  'parameters': {'value': '4HHB'}},\n",
       " 'return_type': 'polymer_instance'}"
      ]
     },
     "execution_count": 218,
     "metadata": {},
     "output_type": "execute_result"
    }
   ],
   "source": [
    "search_query_dict = json.loads(\n",
    "    \"\"\"\n",
    "{\n",
    "  \"query\": {\n",
    "    \"type\": \"group\",\n",
    "    \"logical_operator\": \"and\",\n",
    "    \"nodes\": [\n",
    "      {\n",
    "        \"type\": \"terminal\",\n",
    "        \"service\": \"text\",\n",
    "        \"parameters\": {\n",
    "          \"operator\": \"less_or_equal\",\n",
    "          \"negation\": false,\n",
    "          \"value\": 1.8,\n",
    "          \"attribute\": \"rcsb_entry_info.diffrn_resolution_high.value\"\n",
    "        }\n",
    "      },\n",
    "      {\n",
    "        \"type\": \"terminal\",\n",
    "        \"service\": \"text\",\n",
    "        \"parameters\": {\n",
    "          \"operator\": \"contains_phrase\",\n",
    "          \"negation\": false,\n",
    "          \"value\": \"Escherichia coli\",\n",
    "          \"attribute\": \"rcsb_entity_host_organism.taxonomy_lineage.name\"\n",
    "        }\n",
    "      },\n",
    "      {\n",
    "        \"type\": \"terminal\",\n",
    "        \"service\": \"text\",\n",
    "        \"parameters\": {\n",
    "          \"operator\": \"exact_match\",\n",
    "          \"negation\": false,\n",
    "          \"value\": \"X-RAY DIFFRACTION\",\n",
    "          \"attribute\": \"exptl.method\"\n",
    "        }\n",
    "      }\n",
    "    ]\n",
    "  },\n",
    "  \"return_type\": \"polymer_instance\",\n",
    "  \"request_options\": {\n",
    "    \"return_all_hits\": true\n",
    "  }\n",
    "}\n",
    "\"\"\"\n",
    ")\n",
    "\n",
    "search_query_dict = json.loads(\n",
    "    \"\"\"\n",
    "{\n",
    "  \"query\": {\n",
    "    \"type\": \"terminal\",\n",
    "    \"service\": \"text\",\n",
    "    \"parameters\": {\n",
    "      \"value\": \"4HHB\"\n",
    "    }\n",
    "  },\n",
    "  \"return_type\": \"polymer_instance\"\n",
    "}\n",
    "\"\"\"\n",
    ")\n",
    "\n",
    "\n",
    "search_query_dict"
   ]
  },
  {
   "cell_type": "code",
   "execution_count": 219,
   "metadata": {},
   "outputs": [
    {
     "data": {
      "text/plain": [
       "<Response [200]>"
      ]
     },
     "execution_count": 219,
     "metadata": {},
     "output_type": "execute_result"
    }
   ],
   "source": [
    "response = requests.post(PDB_SEARCH_URL, data=json.dumps(search_query_dict))\n",
    "# response = requests.get(PDB_SEARCH_URL, params=dict(json=json.dumps(search_query_dict)))\n",
    "response"
   ]
  },
  {
   "cell_type": "code",
   "execution_count": 220,
   "metadata": {},
   "outputs": [
    {
     "data": {
      "text/plain": [
       "{'query_id': 'c0b47f43-1b7f-46a7-8397-a0f0d01a35b2',\n",
       " 'result_type': 'polymer_instance',\n",
       " 'total_count': 4,\n",
       " 'explain_meta_data': {'total_timing': 5,\n",
       "  'terminal_node_timings': {'20467': 4}},\n",
       " 'result_set': [{'identifier': '4HHB.A',\n",
       "   'score': 1.0,\n",
       "   'services': [{'service_type': 'text',\n",
       "     'nodes': [{'node_id': 20467,\n",
       "       'original_score': 12.473876953125,\n",
       "       'norm_score': 1.0}]}]},\n",
       "  {'identifier': '4HHB.C',\n",
       "   'score': 1.0,\n",
       "   'services': [{'service_type': 'text',\n",
       "     'nodes': [{'node_id': 20467,\n",
       "       'original_score': 12.473876953125,\n",
       "       'norm_score': 1.0}]}]},\n",
       "  {'identifier': '4HHB.D',\n",
       "   'score': 0.0,\n",
       "   'services': [{'service_type': 'text',\n",
       "     'nodes': [{'node_id': 20467,\n",
       "       'original_score': 11.68081283569336,\n",
       "       'norm_score': 0.0}]}]},\n",
       "  {'identifier': '4HHB.B',\n",
       "   'score': 0.0,\n",
       "   'services': [{'service_type': 'text',\n",
       "     'nodes': [{'node_id': 20467,\n",
       "       'original_score': 11.68081283569336,\n",
       "       'norm_score': 0.0}]}]}]}"
      ]
     },
     "execution_count": 220,
     "metadata": {},
     "output_type": "execute_result"
    }
   ],
   "source": [
    "response_dict = json.loads(response.text)\n",
    "response_dict"
   ]
  },
  {
   "cell_type": "code",
   "execution_count": 221,
   "metadata": {},
   "outputs": [
    {
     "data": {
      "text/plain": [
       "4"
      ]
     },
     "execution_count": 221,
     "metadata": {},
     "output_type": "execute_result"
    }
   ],
   "source": [
    "len(response_dict[\"result_set\"])"
   ]
  },
  {
   "cell_type": "code",
   "execution_count": 123,
   "metadata": {},
   "outputs": [
    {
     "data": {
      "text/plain": [
       "[]"
      ]
     },
     "execution_count": 123,
     "metadata": {},
     "output_type": "execute_result"
    }
   ],
   "source": [
    "ids = [r[\"identifier\"] for r in response_dict[\"result_set\"][0:10]]\n",
    "ids"
   ]
  },
  {
   "cell_type": "code",
   "execution_count": 135,
   "metadata": {},
   "outputs": [
    {
     "name": "stdout",
     "output_type": "stream",
     "text": [
      "{\n",
      "  \"status\" : 400,\n",
      "  \"message\" : \"JSON schema validation failed for query: {\\\"return_type\\\": \\\"polymer_entity\\\", \\\"query\\\": {\\\"type\\\": \\\"terminal\\\", \\\"service\\\": \\\"text\\\", \\\"parameters\\\": {\\\"operator\\\": \\\"contains_phrase\\\", \\\"negation\\\": false, \\\"value\\\": \\\"Escherichia Coli\\\", \\\"attribute\\\": \\\"rcsb_entity_host_organism.taxonomy_lineage.name\\\"}}, \\\"request_options\\\": {\\\"return_all_hits\\\": true}, \\\"request_info\\\": {}}. Errors: object has too few properties (found 0 but schema requires at least 1).\",\n",
      "  \"link\" : \"https://search.rcsb.org/redoc/index.html\"\n",
      "}\n"
     ]
    }
   ],
   "source": [
    "print(response.text)"
   ]
  },
  {
   "cell_type": "code",
   "execution_count": 125,
   "metadata": {},
   "outputs": [],
   "source": [
    "import re\n",
    "\n",
    "pat = re.compile(\"[._-]\")\n",
    "for pid in ids:\n",
    "    print(re.sub(pat, \":\", pid))"
   ]
  },
  {
   "cell_type": "code",
   "execution_count": 166,
   "metadata": {},
   "outputs": [
    {
     "data": {
      "text/plain": [
       "{'query_id': 'e197116f-ab22-4f12-8ea8-3abcc956e61c',\n",
       " 'result_type': 'entry',\n",
       " 'total_count': 170597,\n",
       " 'explain_meta_data': {'total_timing': 7,\n",
       "  'terminal_node_timings': {'6173': 7}},\n",
       " 'result_set': [{'identifier': '2TRH',\n",
       "   'score': 1.0,\n",
       "   'services': [{'service_type': 'text',\n",
       "     'nodes': [{'node_id': 6173, 'original_score': 1.0, 'norm_score': 1.0}]}]},\n",
       "  {'identifier': '2TRM',\n",
       "   'score': 1.0,\n",
       "   'services': [{'service_type': 'text',\n",
       "     'nodes': [{'node_id': 6173, 'original_score': 1.0, 'norm_score': 1.0}]}]},\n",
       "  {'identifier': '2TRA',\n",
       "   'score': 1.0,\n",
       "   'services': [{'service_type': 'text',\n",
       "     'nodes': [{'node_id': 6173, 'original_score': 1.0, 'norm_score': 1.0}]}]},\n",
       "  {'identifier': '2TRC',\n",
       "   'score': 1.0,\n",
       "   'services': [{'service_type': 'text',\n",
       "     'nodes': [{'node_id': 6173, 'original_score': 1.0, 'norm_score': 1.0}]}]},\n",
       "  {'identifier': '363D',\n",
       "   'score': 1.0,\n",
       "   'services': [{'service_type': 'text',\n",
       "     'nodes': [{'node_id': 6173, 'original_score': 1.0, 'norm_score': 1.0}]}]},\n",
       "  {'identifier': '2TSA',\n",
       "   'score': 1.0,\n",
       "   'services': [{'service_type': 'text',\n",
       "     'nodes': [{'node_id': 6173, 'original_score': 1.0, 'norm_score': 1.0}]}]},\n",
       "  {'identifier': '2TSB',\n",
       "   'score': 1.0,\n",
       "   'services': [{'service_type': 'text',\n",
       "     'nodes': [{'node_id': 6173, 'original_score': 1.0, 'norm_score': 1.0}]}]},\n",
       "  {'identifier': '2TSC',\n",
       "   'score': 1.0,\n",
       "   'services': [{'service_type': 'text',\n",
       "     'nodes': [{'node_id': 6173, 'original_score': 1.0, 'norm_score': 1.0}]}]},\n",
       "  {'identifier': '364D',\n",
       "   'score': 1.0,\n",
       "   'services': [{'service_type': 'text',\n",
       "     'nodes': [{'node_id': 6173, 'original_score': 1.0, 'norm_score': 1.0}]}]},\n",
       "  {'identifier': '2TRX',\n",
       "   'score': 1.0,\n",
       "   'services': [{'service_type': 'text',\n",
       "     'nodes': [{'node_id': 6173,\n",
       "       'original_score': 1.0,\n",
       "       'norm_score': 1.0}]}]}]}"
      ]
     },
     "execution_count": 166,
     "metadata": {},
     "output_type": "execute_result"
    }
   ],
   "source": [
    "response_dict"
   ]
  },
  {
   "cell_type": "code",
   "execution_count": null,
   "metadata": {},
   "outputs": [],
   "source": []
  },
  {
   "cell_type": "code",
   "execution_count": null,
   "metadata": {},
   "outputs": [],
   "source": []
  },
  {
   "cell_type": "code",
   "execution_count": null,
   "metadata": {},
   "outputs": [],
   "source": []
  },
  {
   "cell_type": "code",
   "execution_count": 278,
   "metadata": {},
   "outputs": [],
   "source": [
    "import python_jsonschema_objects as pjs\n",
    "\n",
    "response = requests.get(\"https://data.rcsb.org/rest/v1/schema/uniprot\")\n",
    "schema = json.loads(response.text)\n",
    "builder = pjs.ObjectBuilder(schema)\n",
    "ns = builder.build_classes()"
   ]
  },
  {
   "cell_type": "code",
   "execution_count": null,
   "metadata": {},
   "outputs": [],
   "source": []
  },
  {
   "cell_type": "code",
   "execution_count": 302,
   "metadata": {},
   "outputs": [],
   "source": [
    "PDB_DATA_URL = \"https://data.rcsb.org/rest/v1/core/uniprot/\""
   ]
  },
  {
   "cell_type": "code",
   "execution_count": 311,
   "metadata": {},
   "outputs": [
    {
     "data": {
      "text/plain": [
       "<Response [404]>"
      ]
     },
     "execution_count": 311,
     "metadata": {},
     "output_type": "execute_result"
    }
   ],
   "source": [
    "response = requests.get(PDB_DATA_URL + \"333A/1\")\n",
    "response"
   ]
  },
  {
   "cell_type": "code",
   "execution_count": 308,
   "metadata": {},
   "outputs": [
    {
     "name": "stdout",
     "output_type": "stream",
     "text": [
      "P42212\n",
      "P11799\n",
      "P0DP29\n"
     ]
    }
   ],
   "source": [
    "response_arr = json.loads(response.text)\n",
    "for entry in response_arr:\n",
    "    print(entry[\"rcsb_id\"])"
   ]
  },
  {
   "cell_type": "code",
   "execution_count": null,
   "metadata": {},
   "outputs": [],
   "source": []
  },
  {
   "cell_type": "code",
   "execution_count": null,
   "metadata": {},
   "outputs": [],
   "source": []
  },
  {
   "cell_type": "code",
   "execution_count": null,
   "metadata": {},
   "outputs": [],
   "source": []
  },
  {
   "cell_type": "code",
   "execution_count": 314,
   "metadata": {},
   "outputs": [],
   "source": [
    "import sys\n",
    "\n",
    "sys.path.append(\"..\")"
   ]
  },
  {
   "cell_type": "code",
   "execution_count": 315,
   "metadata": {},
   "outputs": [],
   "source": [
    "from pp5.external_dbs.pdb_api import execute_raw_data_query"
   ]
  },
  {
   "cell_type": "code",
   "execution_count": 353,
   "metadata": {},
   "outputs": [
    {
     "name": "stdout",
     "output_type": "stream",
     "text": [
      "> ENTITY 4IK8_1\n",
      ">> CHAIN 4IK8_1.A\n"
     ]
    },
    {
     "data": {
      "text/plain": [
       "{'A': ['P42212', 'K4DIE3']}"
      ]
     },
     "execution_count": 353,
     "metadata": {},
     "output_type": "execute_result"
    }
   ],
   "source": [
    "pdb_id = \"4IK8\"\n",
    "entry_data = execute_raw_data_query(pdb_id)\n",
    "\n",
    "chain_to_unp_ids = {}\n",
    "\n",
    "entry_containers = entry_data[\"rcsb_entry_container_identifiers\"]\n",
    "entity_ids = entry_containers.get(\"polymer_entity_ids\", [])\n",
    "for entity_id in entity_ids:\n",
    "    print(f\"> ENTITY {pdb_id}_{entity_id}\")\n",
    "    entity_data = execute_raw_data_query(pdb_id, entity_id=entity_id)\n",
    "\n",
    "    entity_identifiers = entity_data[\"rcsb_polymer_entity_container_identifiers\"]\n",
    "    entity_chains = entity_identifiers.get(\"asym_ids\", [])\n",
    "    entity_unp_ids = entity_identifiers.get(\"uniprot_ids\", [])\n",
    "\n",
    "    for chain in entity_chains:\n",
    "        print(f\">> CHAIN {pdb_id}_{entity_id}.{chain}\")\n",
    "        chain_to_unp_ids[chain] = entity_unp_ids\n",
    "\n",
    "chain_to_unp_ids"
   ]
  },
  {
   "cell_type": "code",
   "execution_count": 328,
   "metadata": {},
   "outputs": [
    {
     "data": {
      "text/plain": [
       "{'A': ['P69905'], 'C': ['P69905']}"
      ]
     },
     "execution_count": 328,
     "metadata": {},
     "output_type": "execute_result"
    }
   ],
   "source": []
  },
  {
   "cell_type": "code",
   "execution_count": 339,
   "metadata": {},
   "outputs": [
    {
     "name": "stdout",
     "output_type": "stream",
     "text": [
      "entity_ids=['1']\n"
     ]
    }
   ],
   "source": []
  },
  {
   "cell_type": "code",
   "execution_count": null,
   "metadata": {},
   "outputs": [],
   "source": []
  }
 ],
 "metadata": {
  "kernelspec": {
   "display_name": "Python 3",
   "language": "python",
   "name": "python3"
  },
  "language_info": {
   "codemirror_mode": {
    "name": "ipython",
    "version": 3
   },
   "file_extension": ".py",
   "mimetype": "text/x-python",
   "name": "python",
   "nbconvert_exporter": "python",
   "pygments_lexer": "ipython3",
   "version": "3.8.6"
  }
 },
 "nbformat": 4,
 "nbformat_minor": 4
}
