{
 "cells": [
  {
   "cell_type": "code",
   "execution_count": null,
   "id": "9a5e15ac-5566-47dd-964c-bf73d8df0d28",
   "metadata": {},
   "outputs": [],
   "source": [
    "from pathlib import Path\n",
    "import numpy as np\n",
    "from numpy.random import randn, permutation, seed\n",
    "from numpy.linalg import norm\n",
    "from scipy.spatial.distance import pdist, squareform\n",
    "from scipy.linalg import sqrtm\n",
    "import matplotlib.pyplot as plt\n",
    "import time\n",
    "import pandas as pd\n",
    "from functools import partial\n",
    "import seaborn as sns\n",
    "from matplotlib.backends.backend_pdf import PdfPages\n",
    "from sklearn.cluster import KMeans, MeanShift\n",
    "from numpy import ndarray\n",
    "\n",
    "import sys\n",
    "import json"
   ]
  },
  {
   "cell_type": "code",
   "execution_count": null,
   "id": "e7390803-de3a-496d-8bb0-8358c1b6eb59",
   "metadata": {},
   "outputs": [],
   "source": [
    "%matplotlib inline"
   ]
  },
  {
   "cell_type": "code",
   "execution_count": null,
   "id": "401805de-8b4e-40ea-bb89-3e0648a181d3",
   "metadata": {},
   "outputs": [],
   "source": [
    "DATASET_DIR = Path(\n",
    "    \"../out/prec-collected/20230117_200158-aida-ex_EC-src_ALL-r1.5_s0.7-re\"\n",
    ")\n",
    "DATASET_FILE = DATASET_DIR / \"data-precs.csv\""
   ]
  },
  {
   "cell_type": "code",
   "execution_count": null,
   "id": "e9b4cf77-9d47-4af2-9112-b2aa867eeafb",
   "metadata": {},
   "outputs": [],
   "source": [
    "dataset = pd.read_csv(DATASET_FILE)"
   ]
  },
  {
   "cell_type": "code",
   "execution_count": null,
   "id": "e5e67676-d877-49f5-82be-994d318ecea9",
   "metadata": {},
   "outputs": [],
   "source": [
    "coords = [np.array(json.loads(x)) for x in dataset.backbone]\n",
    "unp_id = list(dataset.unp_id)\n",
    "unp_idx = list(k for k in dataset.unp_idx)\n",
    "pdb_id = list(dataset.pdb_id)\n",
    "pdb_idx = list(k for k in dataset.res_id)\n",
    "res_name = list(k for k in dataset.name)\n",
    "phi = dataset.phi.to_numpy()\n",
    "psi = dataset.psi.to_numpy()\n",
    "omega = dataset.omega.to_numpy()\n",
    "ss = list(dataset.secondary)"
   ]
  },
  {
   "cell_type": "code",
   "execution_count": null,
   "id": "c61a410d-35c0-4a6b-bf7d-fb0d5fe5a970",
   "metadata": {},
   "outputs": [],
   "source": [
    "def calc_dihedral2(v1: ndarray, v2: ndarray, v3: ndarray, v4: ndarray):\n",
    "    \"\"\"\n",
    "    Calculates the dihedral angle defined by four 3d points.\n",
    "    This is the angle between the plane defined by the first three\n",
    "    points and the plane defined by the last three points.\n",
    "    Fast approach, based on https://stackoverflow.com/a/34245697/1230403\n",
    "    \"\"\"\n",
    "    b0 = v1 - v2\n",
    "    b1 = v3 - v2\n",
    "    b2 = v4 - v3\n",
    "\n",
    "    # normalize b1 so that it does not influence magnitude of vector\n",
    "    # rejections that come next\n",
    "    b1 /= np.linalg.norm(b1)\n",
    "\n",
    "    # v = projection of b0 onto plane perpendicular to b1\n",
    "    #   = b0 minus component that aligns with b1\n",
    "    # w = projection of b2 onto plane perpendicular to b1\n",
    "    #   = b2 minus component that aligns with b1\n",
    "    v = b0 - np.dot(b0, b1) * b1\n",
    "    w = b2 - np.dot(b2, b1) * b1\n",
    "\n",
    "    # angle between v and w in a plane is the torsion angle\n",
    "    # v and w may not be normalized but that's fine since tan is y/x\n",
    "    x = np.dot(v, w)\n",
    "    y = np.dot(np.cross(b1, v), w)\n",
    "    return np.arctan2(y, x)"
   ]
  },
  {
   "cell_type": "code",
   "execution_count": null,
   "id": "2b23dce4-b682-47dd-8bfa-1af8b2bd7ffb",
   "metadata": {},
   "outputs": [],
   "source": [
    "def canonize(coords, more_coords=None):\n",
    "    \"\"\"\n",
    "    Canonizes coordinates.\n",
    "    \"\"\"\n",
    "\n",
    "    X = np.vstack(coords)\n",
    "    if more_coords:\n",
    "        X_ = np.vstack(more_coords)\n",
    "\n",
    "    if more_coords:\n",
    "        X_ = X_ - X[2, :]\n",
    "    X = X - X[2, :]\n",
    "\n",
    "    e1 = X[4, :] - X[2, :]\n",
    "    e1 = e1 / np.linalg.norm(e1)\n",
    "\n",
    "    e3 = np.cross(X[2, :] - X[4, :], X[5, :] - X[4, :])\n",
    "    e3 = e3 / np.linalg.norm(e3)\n",
    "\n",
    "    e2 = np.cross(e3, e1)\n",
    "    e2 = e2 / np.linalg.norm(e2)\n",
    "\n",
    "    U = np.vstack([e1, e2, e3]).T\n",
    "\n",
    "    if more_coords:\n",
    "        X_ = X_ @ U\n",
    "    X = X @ U\n",
    "\n",
    "    if more_coords:\n",
    "        return X, X_\n",
    "    else:\n",
    "        return X"
   ]
  },
  {
   "cell_type": "code",
   "execution_count": null,
   "id": "142c4a65-45dc-4fab-a9c0-a8c193a0e1bd",
   "metadata": {},
   "outputs": [],
   "source": [
    "def cluster(X, k=20, subset=[0, 1, 5, 6], L=None, algo=\"meanshift\"):\n",
    "    \"\"\"\n",
    "    Clusters coordinates into k clusters.\n",
    "    \"\"\"\n",
    "\n",
    "    Z = X[:, subset, :]\n",
    "    Z = Z.reshape(X.shape[0], -1)\n",
    "\n",
    "    if algo == \"kmeans\":\n",
    "        clust = KMeans(n_clusters=k, random_state=0)\n",
    "    elif algo == \"meanshift\":\n",
    "        clust = MeanShift(bandwidth=float(k), cluster_all=False, max_iter=300)\n",
    "    else:\n",
    "        raise Exception(f\"Unimplemented {algo=}\")\n",
    "\n",
    "    # Random subsample\n",
    "    L = L or Z.shape[0]\n",
    "    L = min(Z.shape[0], L)\n",
    "    idx = np.random.permutation(Z.shape[0])[0:L]\n",
    "\n",
    "    clust = clust.fit(Z[idx, :])\n",
    "    labels = clust.predict(Z)\n",
    "    C = clust.cluster_centers_\n",
    "\n",
    "    C_ = np.zeros((C.shape[0], *X.shape[1:]))\n",
    "    lin_idx = np.array([*range(X.shape[0])])\n",
    "    ind = []\n",
    "    for l in range(labels.max() + 1):\n",
    "        index = labels == l\n",
    "        z = Z[index, :]\n",
    "        d2 = ((C[l, :] - z) ** 2).sum(axis=1)\n",
    "        j = np.argmin(d2)\n",
    "        C_[l, :, :] = X[j, :, :]\n",
    "        ind.append(lin_idx[index][j])\n",
    "\n",
    "    return labels, C_, ind"
   ]
  },
  {
   "cell_type": "code",
   "execution_count": null,
   "id": "3088bad8-5a62-4268-8e1f-c3197a96b3d5",
   "metadata": {},
   "outputs": [],
   "source": [
    "all_angles = np.vstack(\n",
    "    [\n",
    "        np.array([omega[k], phi[k], psi[k], omega[k + 1], phi[k + 1], psi[k + 1]])\n",
    "        for k in range(len(omega) - 1)\n",
    "    ]\n",
    ")"
   ]
  },
  {
   "cell_type": "code",
   "execution_count": null,
   "id": "430d3cd5-6faa-4b8c-a0aa-3d2def5c2e26",
   "metadata": {},
   "outputs": [],
   "source": [
    "marg = 5\n",
    "exc_res = []\n",
    "exc_pdb = [\"4N6V\"]"
   ]
  },
  {
   "cell_type": "code",
   "execution_count": null,
   "id": "2adfd18e-6a66-4da0-a0aa-2646c6272f4a",
   "metadata": {},
   "outputs": [],
   "source": [
    "IDX = [\n",
    "    k\n",
    "    for k in range(marg + 1, len(coords) - marg - 1)\n",
    "    if all(tuple(c.shape) == (4, 3) for c in coords[k - marg - 1 : k + marg + 1])\n",
    "    and all(unp_id[k] == unp_id[k + m] == unp_id[k - 1] for m in range(1, marg + 1))\n",
    "    and all(\n",
    "        unp_idx[k] == unp_idx[k + m] - m and unp_idx[k - m] + m\n",
    "        for m in range(1, marg + 1)\n",
    "    )\n",
    "    and not np.isnan(all_angles[k - marg : k + marg, :]).any()\n",
    "    and res_name[k] not in exc_res\n",
    "    and res_name[k + 1] not in exc_res\n",
    "    and pdb_id[k].split(\":\")[0] not in exc_pdb\n",
    "]"
   ]
  },
  {
   "cell_type": "code",
   "execution_count": null,
   "id": "f6e6371d-03f9-466e-84d0-d815d93888ba",
   "metadata": {},
   "outputs": [],
   "source": [
    "res_triplet = [res_name[k - 1] + res_name[k] + res_name[k + 1] for k in IDX]\n",
    "\n",
    "ss_triplet = [ss[k - 1] + ss[k] + ss[k + 1] for k in IDX]"
   ]
  },
  {
   "cell_type": "code",
   "execution_count": null,
   "id": "53733e94-3153-49f1-aab1-73743134469f",
   "metadata": {},
   "outputs": [],
   "source": [
    "res_seq = [\"\".join(res_name[k + m] for m in range(-marg - 1, marg + 1)) for k in IDX]"
   ]
  },
  {
   "cell_type": "code",
   "execution_count": null,
   "id": "f8b0ac60-d949-43df-96cf-b2c0d5f8b25b",
   "metadata": {},
   "outputs": [],
   "source": [
    "unp_id = [unp_id[k] for k in IDX]\n",
    "unp_idx = [unp_idx[k] for k in IDX]\n",
    "pdb_id = [pdb_id[k] for k in IDX]\n",
    "pdb_idx = [pdb_idx[k] for k in IDX]\n",
    "res_name = [res_name[k] for k in IDX]"
   ]
  },
  {
   "cell_type": "code",
   "execution_count": null,
   "id": "56fa6f45-9fea-4dd3-b476-2ce93ed7a584",
   "metadata": {},
   "outputs": [],
   "source": [
    "all_angles = all_angles[IDX, :]\n",
    "angles = all_angles[:, [1, 2, 4, 5]]"
   ]
  },
  {
   "cell_type": "code",
   "execution_count": null,
   "id": "a3e841e6-4f9f-4c32-90f2-4710b52e3d2c",
   "metadata": {},
   "outputs": [],
   "source": [
    "res = np.array(res_name)"
   ]
  },
  {
   "cell_type": "code",
   "execution_count": null,
   "id": "603f42cb-437c-4db0-90f0-46b90446cdf7",
   "metadata": {},
   "outputs": [],
   "source": [
    "ss = np.array([s[0:2] for s in ss_triplet])"
   ]
  },
  {
   "cell_type": "code",
   "execution_count": null,
   "id": "867f1779-5b7f-49c3-8f96-fdf6d002c485",
   "metadata": {},
   "outputs": [],
   "source": [
    "canonical_coords = []\n",
    "canonical_coords_full = []\n",
    "\n",
    "for k in IDX:\n",
    "    if k % 100000 == 0:\n",
    "        print(k)\n",
    "    x, x_ = canonize(coords[k : k + 2], coords[k - marg - 1 : k + marg + 1])\n",
    "    canonical_coords.append(x)\n",
    "    canonical_coords_full.append(x_)"
   ]
  },
  {
   "cell_type": "code",
   "execution_count": null,
   "id": "c741e3f2-aabd-4a81-8b0d-a3b1792fc436",
   "metadata": {},
   "outputs": [],
   "source": [
    "X = np.array(canonical_coords)"
   ]
  },
  {
   "cell_type": "code",
   "execution_count": null,
   "id": "e5d4def7-8dff-44e8-ab25-488eb7611c2a",
   "metadata": {},
   "outputs": [],
   "source": [
    "k = 20\n",
    "labels, C_, ind = cluster(X, k=k, L=5000, algo=\"kmeans\")"
   ]
  },
  {
   "cell_type": "code",
   "execution_count": null,
   "id": "991bc05a-4646-474b-8b1a-578ff995c24a",
   "metadata": {},
   "outputs": [],
   "source": [
    "from sklearn.metrics.pairwise import euclidean_distances\n",
    "from sklearn.manifold import MDS\n",
    "\n",
    "Z = C_[:, [0, 1, 5, 6], :]\n",
    "Z = Z.reshape(C_.shape[0], -1)\n",
    "mds = MDS(dissimilarity=\"euclidean\", n_components=1, random_state=0)\n",
    "x = mds.fit_transform(Z)[:, 0]\n",
    "idx_sort = np.argsort(x)\n",
    "idx_inv = np.zeros_like(idx_sort)\n",
    "for k in range(len(idx_sort)):\n",
    "    idx_inv[idx_sort[k]] = k"
   ]
  },
  {
   "cell_type": "code",
   "execution_count": null,
   "id": "584bb5e6-68d3-4eb7-9519-aa33b3e7e104",
   "metadata": {},
   "outputs": [],
   "source": [
    "C_ = C_[idx_sort, :, :]\n",
    "ind = list(np.array(ind)[idx_sort])\n",
    "labels = idx_inv[labels]"
   ]
  },
  {
   "cell_type": "code",
   "execution_count": null,
   "id": "fe7e5fc1-59ef-4f72-a5bd-77cfb056c6b0",
   "metadata": {},
   "outputs": [],
   "source": [
    "# subclusters\n",
    "lin_idx = np.array([*range(X.shape[0])])\n",
    "ind_sub = []\n",
    "for l in range(labels.max() + 1):\n",
    "    idx = labels == l\n",
    "    # labels_, C__, ind_ = cluster(X[idx,:,:], k=10, algo='kmeans')\n",
    "    labels_, C__, ind_ = cluster(X[idx, :, :], k=15, L=1000, algo=\"kmeans\")\n",
    "\n",
    "    counts = np.bincount(labels_)\n",
    "    freqs = counts / sum(counts)\n",
    "    mask = freqs >= 0.5 / len(counts)\n",
    "    ind_ = np.array(ind_)[mask]\n",
    "\n",
    "    ind_ = [(lin_idx[idx])[i] for i in ind_]\n",
    "    assert all(lab == l for lab in labels[ind_])\n",
    "    ind_sub.append(ind_)\n",
    "\n",
    "    print(f\"{l:4d}\\t{len(ind_)}\")"
   ]
  },
  {
   "cell_type": "code",
   "execution_count": null,
   "id": "49cb15b0-b97b-4e1d-97c5-308e9885b6c5",
   "metadata": {},
   "outputs": [],
   "source": [
    "clusters = {\n",
    "    \"num\": [],\n",
    "    \"sub\": [],\n",
    "    \"pdb_id\": [],\n",
    "    \"pdb_idx\": [],\n",
    "    \"res_prev\": [],\n",
    "    \"res\": [],\n",
    "    \"res_next\": [],\n",
    "    \"ss_prev\": [],\n",
    "    \"ss\": [],\n",
    "    \"ss_next\": [],\n",
    "    \"phi0\": [],\n",
    "    \"psi0\": [],\n",
    "    \"phi1\": [],\n",
    "    \"psi1\": [],\n",
    "}\n",
    "for l, idx_ in enumerate(ind):\n",
    "    for s, idx in enumerate([idx_, *ind_sub[l]]):\n",
    "        clusters[\"num\"].append(l)\n",
    "        clusters[\"sub\"].append(s)\n",
    "        clusters[\"pdb_id\"].append(pdb_id[idx])\n",
    "        clusters[\"pdb_idx\"].append(pdb_idx[idx])\n",
    "        clusters[\"res_prev\"].append(res_triplet[idx][0])\n",
    "        clusters[\"res\"].append(res_triplet[idx][1])\n",
    "        clusters[\"res_next\"].append(res_triplet[idx][2])\n",
    "        clusters[\"ss_prev\"].append(ss_triplet[idx][0])\n",
    "        clusters[\"ss\"].append(ss_triplet[idx][1])\n",
    "        clusters[\"ss_next\"].append(ss_triplet[idx][2])\n",
    "        clusters[\"phi0\"].append(all_angles[idx, 1])\n",
    "        clusters[\"psi0\"].append(all_angles[idx, 2])\n",
    "        clusters[\"phi1\"].append(all_angles[idx, 4])\n",
    "        clusters[\"psi1\"].append(all_angles[idx, 5])"
   ]
  },
  {
   "cell_type": "code",
   "execution_count": null,
   "id": "a128544f-9042-49f8-bb2b-2a7110afa6a6",
   "metadata": {},
   "outputs": [],
   "source": [
    "df = pd.DataFrame(clusters)\n",
    "df.to_csv(f\"clusters_{max(labels)+1}.csv\", index=False)"
   ]
  },
  {
   "cell_type": "code",
   "execution_count": null,
   "id": "733e8940-a648-4bdd-8fd7-6229ae982718",
   "metadata": {},
   "outputs": [],
   "source": [
    "df"
   ]
  },
  {
   "cell_type": "code",
   "execution_count": null,
   "id": "7897af2d-3d5f-4a5c-942a-b6bb04befbdf",
   "metadata": {},
   "outputs": [],
   "source": []
  }
 ],
 "metadata": {
  "kernelspec": {
   "display_name": "Python 3 (ipykernel)",
   "language": "python",
   "name": "python3"
  },
  "language_info": {
   "codemirror_mode": {
    "name": "ipython",
    "version": 3
   },
   "file_extension": ".py",
   "mimetype": "text/x-python",
   "name": "python",
   "nbconvert_exporter": "python",
   "pygments_lexer": "ipython3",
   "version": "3.9.16"
  }
 },
 "nbformat": 4,
 "nbformat_minor": 5
}
